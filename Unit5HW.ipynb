{
 "cells": [
  {
   "cell_type": "markdown",
   "metadata": {},
   "source": [
    "# Popcorn 1"
   ]
  },
  {
   "cell_type": "code",
   "execution_count": 30,
   "metadata": {
    "vscode": {
     "languageId": "java"
    }
   },
   "outputs": [
    {
     "data": {
      "text/plain": [
       "true"
      ]
     },
     "execution_count": 30,
     "metadata": {},
     "output_type": "execute_result"
    }
   ],
   "source": [
    "public class Student {\n",
    "    private String name;\n",
    "    private int score;\n",
    "    \n",
    "    // Default constructor\n",
    "    public Student() {\n",
    "        name = \"\";\n",
    "        score = 0;   \n",
    "    }\n",
    "\n",
    "    // Overloaded constructor\n",
    "    public Student(String n, int s) {\n",
    "        name = n;\n",
    "        score = s;\n",
    "    }\n",
    "\n",
    "    //Accessor Methods\n",
    "    public String getName() {\n",
    "        return name;\n",
    "    }\n",
    "\n",
    "    public int getScore(){\n",
    "        return score;\n",
    "    }\n",
    "\n",
    "    //Mutator Methods\n",
    "    public void setName(String n){\n",
    "        name = n;\n",
    "    }\n",
    "\n",
    "    public void setScore(int s){\n",
    "        if(s < 0 || s > 100){\n",
    "            score = 0; //default value\n",
    "        }\n",
    "        else {\n",
    "            score = s;\n",
    "        }\n",
    "    }\n",
    "\n",
    "    public boolean pass(){\n",
    "        return (score >= 70);\n",
    "    }\n",
    "}\n",
    "\n",
    "Student john = new Student(\"john\", 75);\n",
    "john.pass();"
   ]
  },
  {
   "cell_type": "markdown",
   "metadata": {},
   "source": [
    "# Popcorn 2"
   ]
  },
  {
   "cell_type": "code",
   "execution_count": 31,
   "metadata": {
    "vscode": {
     "languageId": "java"
    }
   },
   "outputs": [
    {
     "name": "stdout",
     "output_type": "stream",
     "text": [
      "5\n"
     ]
    }
   ],
   "source": [
    "class Grade{\n",
    "    int score = 5;\n",
    "    Grade(){\n",
    "        this.score = 5;\n",
    "    }\n",
    "\n",
    "    public void printscore(){\n",
    "        System.out.println(score);\n",
    "\n",
    "    }\n",
    "\n",
    "}\n",
    "Grade sigma = new Grade();\n",
    "sigma.printscore();"
   ]
  },
  {
   "cell_type": "markdown",
   "metadata": {},
   "source": [
    "# Popcorn Hack 3"
   ]
  },
  {
   "cell_type": "code",
   "execution_count": 32,
   "metadata": {
    "vscode": {
     "languageId": "java"
    }
   },
   "outputs": [
    {
     "name": "stdout",
     "output_type": "stream",
     "text": [
      "5\n",
      "4\n"
     ]
    }
   ],
   "source": [
    "class Grade{\n",
    "    int score = 5;\n",
    "    Grade(){\n",
    "        this.score = 5;\n",
    "    }\n",
    "\n",
    "    Grade(int gra){\n",
    "        this.score = gra;\n",
    "    }\n",
    "\n",
    "    public void printscore(){\n",
    "        System.out.println(score);\n",
    "\n",
    "    }\n",
    "\n",
    "}\n",
    "\n",
    "Grade sigma = new Grade();\n",
    "sigma.printscore();\n",
    "\n",
    "Grade alpha = new Grade(4);\n",
    "alpha.printscore();"
   ]
  },
  {
   "cell_type": "markdown",
   "metadata": {},
   "source": [
    "# Popcorn Hack 4"
   ]
  },
  {
   "cell_type": "code",
   "execution_count": 33,
   "metadata": {
    "vscode": {
     "languageId": "java"
    }
   },
   "outputs": [
    {
     "name": "stdout",
     "output_type": "stream",
     "text": [
      "5\n",
      "4\n"
     ]
    }
   ],
   "source": [
    "// already had an overloaded constructor\n",
    "class Grade{\n",
    "    int score = 5;\n",
    "    Grade(){\n",
    "        this.score = 5;\n",
    "    }\n",
    "\n",
    "    Grade(int gra){\n",
    "        this.score = gra;\n",
    "    }\n",
    "\n",
    "    public void printscore(){\n",
    "        System.out.println(score);\n",
    "\n",
    "    }\n",
    "\n",
    "}\n",
    "\n",
    "Grade sigma = new Grade();\n",
    "sigma.printscore();\n",
    "\n",
    "Grade alpha = new Grade(4);\n",
    "alpha.printscore();"
   ]
  },
  {
   "cell_type": "markdown",
   "metadata": {},
   "source": [
    "# Popcorn Hack 5"
   ]
  },
  {
   "cell_type": "code",
   "execution_count": 34,
   "metadata": {
    "vscode": {
     "languageId": "java"
    }
   },
   "outputs": [
    {
     "name": "stdout",
     "output_type": "stream",
     "text": [
      "Stuart\n",
      "Developing propulsion system\n",
      "13\n"
     ]
    }
   ],
   "source": [
    "public class Minion {\n",
    "    private String name;\n",
    "    private String task;\n",
    "    int skillLevel = 13;\n",
    "    // Create  skillLevel instance variable\n",
    "\n",
    "    public Minion(String n, String t)\n",
    "    {\n",
    "        name = n;\n",
    "        task = t;\n",
    "        skillLevel = 13;\n",
    "    }\n",
    "    // Getter Methods\n",
    "    public String getName()\n",
    "    {\n",
    "        return name;\n",
    "    }\n",
    "    public String getTask()\n",
    "    {\n",
    "        return task;\n",
    "    }\n",
    "\n",
    "    // Add getter method here\n",
    "    public int getSkillLevel(){\n",
    "        return skillLevel;\n",
    "    }\n",
    "}\n",
    "Minion Stuart = new Minion(\"Stuart\", \"Developing propulsion system\");\n",
    "System.out.println(Stuart.getName());\n",
    "System.out.println(Stuart.getTask());\n",
    "// Add print statement to get skillLevel\n",
    "System.out.println(Stuart.getSkillLevel());\n",
    "\n"
   ]
  },
  {
   "cell_type": "markdown",
   "metadata": {},
   "source": [
    "# Popcorn Hack 6"
   ]
  },
  {
   "cell_type": "code",
   "execution_count": 35,
   "metadata": {
    "vscode": {
     "languageId": "java"
    }
   },
   "outputs": [
    {
     "name": "stdout",
     "output_type": "stream",
     "text": [
      "Name: Kevin, Height: 4.1, Hair: Sprout-Cut, Eyes: 2\n"
     ]
    }
   ],
   "source": [
    "public class Minion\n",
    "{\n",
    "    private double height;\n",
    "    private String name;\n",
    "    private String hair;\n",
    "    private int eyes;\n",
    "\n",
    "    // Default Constructor\n",
    "    public Minion()\n",
    "    {\n",
    "        height = 3.7;\n",
    "        name = \"Bob\";\n",
    "        hair = \"None\";\n",
    "        eyes = 2;\n",
    "    }\n",
    "\n",
    "    // Overloaded Constructor\n",
    "    public Minion(double h, String n, String hr, int e)\n",
    "    {\n",
    "        height = h;\n",
    "        name = n;\n",
    "        hair = hr;\n",
    "        eyes = e;\n",
    "    }\n",
    "\n",
    "    // Accessor Methods!\n",
    "    @Override\n",
    "    public String toString()\n",
    "    {\n",
    "        return \"Name: \" + name + \", Height: \" + height + \", Hair: \" + hair + \", Eyes: \" + eyes;\n",
    "    }\n",
    "}\n",
    "\n",
    "// Create minion object Kevin\n",
    "Minion kevin = new Minion(4.10, \"Kevin\", \"Sprout-Cut\", 2);\n",
    "\n",
    "// Print Kevin Object\n",
    "System.out.println(kevin);"
   ]
  },
  {
   "cell_type": "markdown",
   "metadata": {},
   "source": [
    "# Popcorn Hack 7"
   ]
  },
  {
   "cell_type": "code",
   "execution_count": 36,
   "metadata": {
    "vscode": {
     "languageId": "java"
    }
   },
   "outputs": [],
   "source": [
    "public class HorseBoy\n",
    "{\n",
    "    private String name;\n",
    "\n",
    "    HorseBoy(String name){\n",
    "        this.name = name;\n",
    "    }\n",
    "\n",
    "    public String getName() {\n",
    "        return this.name;\n",
    "    }\n",
    "}"
   ]
  },
  {
   "cell_type": "markdown",
   "metadata": {},
   "source": [
    "# POPCORN HACK 8"
   ]
  },
  {
   "cell_type": "code",
   "execution_count": 37,
   "metadata": {
    "vscode": {
     "languageId": "java"
    }
   },
   "outputs": [],
   "source": [
    "public class HorseBoy\n",
    "{\n",
    "    private String name;\n",
    "\n",
    "\n",
    "    HorseBoy(String name){\n",
    "        this.name = name;\n",
    "    }\n",
    "\n",
    "    public String getName() {\n",
    "        return this.name;\n",
    "    }\n",
    "\n",
    "    public void setName(String n) {\n",
    "        name = n;\n",
    "    }\n",
    "    \n",
    "}"
   ]
  },
  {
   "cell_type": "markdown",
   "metadata": {},
   "source": [
    "# Popcorn is yummy 9"
   ]
  },
  {
   "cell_type": "code",
   "execution_count": 38,
   "metadata": {
    "vscode": {
     "languageId": "java"
    }
   },
   "outputs": [
    {
     "name": "stdout",
     "output_type": "stream",
     "text": [
      "=== Adding Minions ===\n",
      "Kevin has been added to Gru's army.\n",
      "Stuart has been added to Gru's army.\n",
      "Bob has been added to Gru's army.\n",
      "Henchman 1 has been added to Vector's army.\n",
      "\n",
      "=== Villain Descriptions ===\n",
      "Gru is planning to: steal the moon!\n",
      "They have 3 minions.\n",
      "\n",
      "Vector is planning to: take over the world with magnitude and direction!\n",
      "They have 1 minions.\n",
      "Stealing the moon!\n",
      "\n",
      "=== Total Villain Count ===\n",
      "There are 2 villains in the world.\n"
     ]
    }
   ],
   "source": [
    "import java.util.ArrayList;\n",
    "import java.util.List;\n",
    "\n",
    "public class Villain {\n",
    "    // Instance variables\n",
    "    public String name;\n",
    "    public String evilPlan;\n",
    "    public List<String> minions;\n",
    "    public static int villainCount = 0;\n",
    "\n",
    "    // Constructor for name, plan, and minions\n",
    "    public Villain(String name, String evilPlan) {\n",
    "        this.name = name;\n",
    "        this.evilPlan = evilPlan;\n",
    "        this.minions = new ArrayList<>();\n",
    "        villainCount++;\n",
    "    }\n",
    "\n",
    "    // Instance method to add a minion. LOOK HERE!!\n",
    "    public void addMinion(String minion) {\n",
    "        minions.add(minion);\n",
    "        System.out.println(minion + \" has been added to \" + name + \"'s army.\");\n",
    "    }\n",
    "\n",
    "    // Instance method to describe the villain. \n",
    "    public void describeVillain() {\n",
    "        System.out.println(name + \" is planning to: \" + evilPlan);\n",
    "        System.out.println(\"They have \" + minions.size() + \" minions.\");\n",
    "    }\n",
    "\n",
    "    // Static method to get the total count of villains\n",
    "    public static int getVillainCount() {\n",
    "        return villainCount;\n",
    "    }\n",
    "\n",
    "    public static void useSpecialMove(){\n",
    "        System.out.println(\"Stealing the moon!\");\n",
    "    }\n",
    "}\n",
    "\n",
    "public class Main {\n",
    "    public static void main(String[] args) {\n",
    "        Villain.villainCount = 0;\n",
    "\n",
    "        // Create new villains\n",
    "        Villain gru = new Villain(\"Gru\", \"steal the moon!\");\n",
    "        Villain vector = new Villain(\"Vector\", \"take over the world with magnitude and direction!\");\n",
    "\n",
    "        System.out.println(\"=== Adding Minions ===\");\n",
    "        // Create some minions\n",
    "        gru.addMinion(\"Kevin\");\n",
    "        gru.addMinion(\"Stuart\");\n",
    "        gru.addMinion(\"Bob\");\n",
    "\n",
    "        // Create some minions for Vector\n",
    "        vector.addMinion(\"Henchman 1\");\n",
    "\n",
    "        System.out.println();\n",
    "\n",
    "        // Describe the villains and their plans\n",
    "        System.out.println(\"=== Villain Descriptions ===\");\n",
    "        gru.describeVillain();\n",
    "        System.out.println();\n",
    "        vector.describeVillain();\n",
    "        vector.useSpecialMove();\n",
    "        System.out.println();\n",
    "\n",
    "        // Get the total count of villains\n",
    "        System.out.println(\"=== Total Villain Count ===\");\n",
    "        System.out.println(\"There are \" + Villain.getVillainCount() + \" villains in the world.\");\n",
    "    }\n",
    "}\n",
    "\n",
    "Main.main(null);"
   ]
  },
  {
   "cell_type": "markdown",
   "metadata": {},
   "source": [
    "# POPCORN 10"
   ]
  },
  {
   "cell_type": "code",
   "execution_count": 39,
   "metadata": {
    "vscode": {
     "languageId": "java"
    }
   },
   "outputs": [
    {
     "data": {
      "text/plain": [
       "Name: Ranauk, Gadgets: brain, Personality: built different, Height: 5.5 feet, Eyes: 2"
      ]
     },
     "execution_count": 39,
     "metadata": {},
     "output_type": "execute_result"
    }
   ],
   "source": [
    "\n",
    "\n",
    "public class Minion {\n",
    "\n",
    "    private String name;\n",
    "    private String gadget;\n",
    "    private String personality;\n",
    "    private double height;\n",
    "    private int eyes;\n",
    "\n",
    "    public Minion() {\n",
    "        this.name = \"unnamed\";\n",
    "        this.gadget = \"Skibidi\";\n",
    "        this.personality = \"none\";\n",
    "        this.height = 0.0;\n",
    "        this.eyes = 0;\n",
    "    }\n",
    "\n",
    "    public Minion(String name, String gadget, String personality, double height, int eyes) {\n",
    "        this.name = name;\n",
    "        this.gadget = gadget;\n",
    "        this.personality = personality;\n",
    "        this.height = height;\n",
    "        this.eyes = eyes;\n",
    "    }\n",
    "\n",
    "\n",
    "    public String getName() {\n",
    "        return name;\n",
    "    }\n",
    "\n",
    "    public String getGadget() {\n",
    "        return gadget;\n",
    "    }\n",
    "\n",
    "    public String getPersonality() {\n",
    "        return personality;\n",
    "    }\n",
    "\n",
    "    public double getHeight() {\n",
    "        return height;\n",
    "    }\n",
    "\n",
    "    public int getEyes() {\n",
    "        return eyes;\n",
    "    }\n",
    "\n",
    "\n",
    "\n",
    "    public String toString() {\n",
    "        return \"Name: \" + name + \n",
    "               \", Gadgets: \" + gadget + \n",
    "               \", Personality: \" + personality + \n",
    "               \", Height: \" + height + \n",
    "               \" feet, Eyes: \" + eyes;\n",
    "    }\n",
    "}\n",
    "\n",
    "Minion Ranauk = new Minion(\"Ranauk\", \"brain\", \"built different\", 5.5, 2);\n",
    "Ranauk.toString();\n"
   ]
  },
  {
   "cell_type": "markdown",
   "metadata": {},
   "source": [
    "# Popcorn Hack 11..."
   ]
  },
  {
   "cell_type": "code",
   "execution_count": 40,
   "metadata": {
    "vscode": {
     "languageId": "java"
    }
   },
   "outputs": [
    {
     "name": "stdout",
     "output_type": "stream",
     "text": [
      "Total gadgets made: 3\n",
      "All gagets are at power: 10\n",
      "Gadgets created:\n",
      "- Freeze Ray\n",
      "- Banana Blaster\n",
      "- Lipstick Taser\n"
     ]
    }
   ],
   "source": [
    "import java.util.ArrayList;\n",
    "import java.util.List;\n",
    "\n",
    "public class Gadget {\n",
    "    public static int totalGadgets = 0;  // Static variable to track total gadgets made\n",
    "    public static int gadgetPower = 10;\n",
    "    private String gadgetName;  // Instance variable to store the name of the gadget\n",
    "    public static List<Gadget> gadgetsList = new ArrayList<>();  // Static list to track all gadgets\n",
    "\n",
    "    // Constructor to set the gadget name and increment totalGadgets\n",
    "    public Gadget(String gadgetName) {\n",
    "        this.gadgetName = gadgetName;\n",
    "        totalGadgets++;  // Increment the total gadgets count\n",
    "        gadgetsList.add(this);  // Add this gadget to the static list\n",
    "    }\n",
    "\n",
    "    // Getter for the gadget name\n",
    "    public String getGadgetName() {\n",
    "        return gadgetName;\n",
    "    }\n",
    "\n",
    "    // Static method to print all gadgets in the list\n",
    "    public static void printAllGadgets() {\n",
    "        System.out.println(\"Gadgets created:\");\n",
    "        for (int i = 0; i < gadgetsList.size(); i++) {\n",
    "            System.out.println(\"- \" + gadgetsList.get(i).getGadgetName());\n",
    "        }\n",
    "    }\n",
    "}\n",
    "\n",
    "// In the Main class:\n",
    "public class Main {\n",
    "    public static void main(String[] args) {\n",
    "        // Create three gadgets\n",
    "        Gadget g1 = new Gadget(\"Freeze Ray\");\n",
    "        Gadget g2 = new Gadget(\"Banana Blaster\");\n",
    "        Gadget g3 = new Gadget(\"Lipstick Taser\");\n",
    "\n",
    "        // Print the total number of gadgets\n",
    "        System.out.println(\"Total gadgets made: \" + Gadget.totalGadgets);\n",
    "        System.out.println(\"All gagets are at power: \" + Gadget.gadgetPower);\n",
    "\n",
    "        // Print all gadgets stored in the static list\n",
    "        Gadget.printAllGadgets();\n",
    "    }\n",
    "}\n",
    "\n",
    "Main.main(null);"
   ]
  },
  {
   "cell_type": "markdown",
   "metadata": {},
   "source": [
    "# Popcorn Hack twelve"
   ]
  },
  {
   "cell_type": "code",
   "execution_count": 41,
   "metadata": {
    "vscode": {
     "languageId": "java"
    }
   },
   "outputs": [
    {
     "name": "stdout",
     "output_type": "stream",
     "text": [
      "Total gadgets made: 3\n",
      "All gadgets are at power: 10\n",
      "Gadgets created:\n",
      "- Freeze Ray (Cost: $100.0)\n",
      "- Banana Blaster (Cost: $20.0)\n",
      "- Lipstick Taser (Cost: $5.0)\n",
      "Total cost of all gadgets: $125.0\n"
     ]
    }
   ],
   "source": [
    "import java.util.ArrayList;\n",
    "import java.util.List;\n",
    "\n",
    "public class Gadget {\n",
    "    public static int totalGadgets = 0;  // Static variable to track total gadgets made\n",
    "    public static int gadgetPower = 10;\n",
    "    private String gadgetName;              // Instance variable to store the name of the gadget\n",
    "    private double cost;          \n",
    "    public static List<Gadget> gadgetsList = new ArrayList<>();  // Static list to track all gadgets\n",
    "\n",
    "    // Constructor to set the gadget name and cost, and increment totalGadgets\n",
    "    public Gadget(String gadgetName, double cost) {\n",
    "        this.gadgetName = gadgetName;\n",
    "        this.cost = cost;\n",
    "        totalGadgets++;  // Increment the total gadgets count\n",
    "        gadgetsList.add(this);  // Add this gadget to the static list\n",
    "    }\n",
    "\n",
    "    // Getter for the gadget name\n",
    "    public String getGadgetName() {\n",
    "        return gadgetName;\n",
    "    }\n",
    "    \n",
    "\n",
    "    public double getCost() {\n",
    "        return cost;\n",
    "    }\n",
    "\n",
    "    // Static method to print all gadgets in the list\n",
    "    public static void printAllGadgets() {\n",
    "        System.out.println(\"Gadgets created:\");\n",
    "        for (Gadget gadget : gadgetsList) {\n",
    "            System.out.println(\"- \" + gadget.getGadgetName() + \" (Cost: $\" + gadget.getCost() + \")\");\n",
    "        }\n",
    "    }\n",
    "\n",
    "\n",
    "    public static double calculateTotalCost() {\n",
    "        double totalCost = 0.0;\n",
    "        for (Gadget gadget : gadgetsList) {\n",
    "            totalCost += gadget.getCost();\n",
    "        }\n",
    "        return totalCost;\n",
    "    }\n",
    "}\n",
    "\n",
    "public class Main {\n",
    "    public static void main(String[] args) {\n",
    "\n",
    "        Gadget g1 = new Gadget(\"Freeze Ray\", 100);\n",
    "        Gadget g2 = new Gadget(\"Banana Blaster\", 20);\n",
    "        Gadget g3 = new Gadget(\"Lipstick Taser\", 5);\n",
    "\n",
    "\n",
    "        System.out.println(\"Total gadgets made: \" + Gadget.totalGadgets);\n",
    "        System.out.println(\"All gadgets are at power: \" + Gadget.gadgetPower);\n",
    "\n",
    "\n",
    "        Gadget.printAllGadgets();\n",
    "\n",
    "\n",
    "        double totalCost = Gadget.calculateTotalCost();\n",
    "        System.out.println(\"Total cost of all gadgets: $\" + totalCost);\n",
    "    }\n",
    "}\n",
    "\n",
    "Main.main(null);\n",
    "\n"
   ]
  },
  {
   "cell_type": "markdown",
   "metadata": {},
   "source": [
    "# Popcorn HACK THIRTEEN"
   ]
  },
  {
   "cell_type": "code",
   "execution_count": 42,
   "metadata": {
    "vscode": {
     "languageId": "java"
    }
   },
   "outputs": [
    {
     "name": "stdout",
     "output_type": "stream",
     "text": [
      "Happiness Level: 0\n",
      "Energy Level: 0\n"
     ]
    }
   ],
   "source": [
    "// public class MinionMood\n",
    "// {\n",
    "//     private int happinessLevel;\n",
    "//     private int energyLevel;\n",
    "\n",
    "//     public MinionMood(int bananas, int tasks)\n",
    "//     {\n",
    "//         int happinessLevel = 2*bananas;\n",
    "//         int energyLevel = tasks;\n",
    "//     }\n",
    "//     public String toString()\n",
    "//     {\n",
    "//         return \"Happiness Level: \" + happinessLevel + \"\\nEnergy Level: \" + energyLevel;\n",
    "//     }\n",
    "// }\n",
    "\n",
    "// MinionMood bob = new MinionMood(5, 2);\n",
    "// System.out.println(bob);\n",
    "\n",
    "// Happieness Level and Energy Level are not being printed correctly \n",
    "//because new local variables are being assigned in the constructor."
   ]
  },
  {
   "cell_type": "markdown",
   "metadata": {},
   "source": [
    "# Popcorn Hack 14"
   ]
  },
  {
   "cell_type": "code",
   "execution_count": 59,
   "metadata": {
    "vscode": {
     "languageId": "java"
    }
   },
   "outputs": [
    {
     "name": "stdout",
     "output_type": "stream",
     "text": [
      "Minion 1 height: 43\n",
      "Is Minion 1 taller than Minion 2? true\n",
      "Is Minion 1 still taller than Minion 2? false\n",
      "Is Minion 1 faster than Minion 2? true\n"
     ]
    }
   ],
   "source": [
    "public class Minion {\n",
    "    private String speed;\n",
    "    private int height;\n",
    "\n",
    "    // Corrected constructor\n",
    "    public Minion(String speed, int height) {\n",
    "        this.speed = speed;\n",
    "        this.height = height;\n",
    "    }\n",
    "\n",
    "    public void setHeight(int height) {\n",
    "        this.height = height;  \n",
    "    }\n",
    "\n",
    "    public String getSpeed() {\n",
    "        return this.speed;  \n",
    "    }\n",
    "\n",
    "    public int getHeight() {\n",
    "        return this.height;\n",
    "    }\n",
    "\n",
    "    public boolean isTallerThan(Minion otherMinion) {\n",
    "        return this.height > otherMinion.height;  \n",
    "    }\n",
    "\n",
    "    public boolean isFasterThan(Minion otherMinion){\n",
    "        if (this.speed.equals(\"fast\") && otherMinion.speed.equals(\"medium\")){\n",
    "            return true;\n",
    "        }\n",
    "        return false;\n",
    "    }\n",
    "}\n",
    "\n",
    "public class Main {\n",
    "    public static void main(String[] args) {\n",
    "        Minion minion1 = new Minion(\"fast\", 43);\n",
    "        Minion minion2 = new Minion(\"medium\", 28);\n",
    "\n",
    "        System.out.println(\"Minion 1 height: \" + minion1.getHeight());\n",
    "        System.out.println(\"Is Minion 1 taller than Minion 2? \" + minion1.isTallerThan(minion2));\n",
    "\n",
    "        minion2.setHeight(50);\n",
    "        System.out.println(\"Is Minion 1 still taller than Minion 2? \" + minion1.isTallerThan(minion2));\n",
    "        \n",
    "        // Optional: Check if minion1 is faster than minion2\n",
    "        System.out.println(\"Is Minion 1 faster than Minion 2? \" + minion1.isFasterThan(minion2));\n",
    "    }\n",
    "}\n",
    "\n",
    "Main.main(null);"
   ]
  },
  {
   "cell_type": "markdown",
   "metadata": {},
   "source": [
    "What is the output of the statement System.out.println(“minion 1 speed: “ + minion1.speed())? Explain why the this keyword is useful in the getSpeed() method.\n",
    "\n",
    "No speed() method in class so error\n",
    "\n",
    "using this.speed will return the speed of this instance of minion rather than of the minion class. \n",
    "\n",
    "What does the isTallerThan() method compare?\n",
    "\n",
    "isTallerThan compares the heights of the two Minions. \n",
    "\n",
    "What happens to the result of System.out.println(“Is minion1 taller than minion2? “ + minion1.isTallerThan(minion2)) after minion2.setHeight(50) is called?\n",
    "\n",
    "It becomes false\n",
    "\n",
    "Who should be selected for the mission?🤔\n",
    "\n",
    "Minion 1 should be selected for the mission because minion 1 is taller and faster than minion 2."
   ]
  },
  {
   "cell_type": "markdown",
   "metadata": {},
   "source": [
    "# Homework Hacks"
   ]
  },
  {
   "cell_type": "markdown",
   "metadata": {},
   "source": [
    "Hack 1-5 + EXTRA"
   ]
  },
  {
   "cell_type": "code",
   "execution_count": 79,
   "metadata": {
    "vscode": {
     "languageId": "java"
    }
   },
   "outputs": [
    {
     "name": "stdout",
     "output_type": "stream",
     "text": [
      "Name: bob, Gadget: none, energy: 10, Height: 2.0, hair: Bald color: yellow\n",
      "Name: dave, Gadget: sigma, energy: 8, Height: 2.3, hair: low taper fade color: yellow\n",
      "Name: steve, Gadget: toothpick, energy: 3, Height: 1.8, hair: mowhawk color: purple\n",
      "Average Energy Level: 7.0\n",
      "Steve will need 5 business days to recover.\n"
     ]
    }
   ],
   "source": [
    "public class Minion{\n",
    "String color = \"green\";\n",
    "String name = \"Bob\";\n",
    "int energy = 10;\n",
    "String gadget = \"None\";\n",
    "String hair = \"bald\";\n",
    "double height = 2;\n",
    "\n",
    "private static int totalEnergy = 0;\n",
    "private static int minionCount = 0;\n",
    "\n",
    "Minion(){\n",
    "this.color = \"yellow\";\n",
    "this.name = \"bob\";\n",
    "this.energy = 10;\n",
    "this.gadget = \"none\";\n",
    "this.hair = \"Bald\";\n",
    "this.height = 2;\n",
    "updateStats(this.energy);\n",
    "}\n",
    "\n",
    "Minion(String c, String n, int e, String g, String h, double H) {\n",
    "    this.color = c;\n",
    "    this.name = n;\n",
    "    this.energy = e;\n",
    "    this.gadget = g;\n",
    "    this.hair = h;\n",
    "    this.height = H;\n",
    "    updateStats(this.energy);\n",
    "}\n",
    "\n",
    "public String toString() {\n",
    "    return \"Name: \" + name + \n",
    "           \", Gadget: \" + gadget + \n",
    "           \", energy: \" + energy + \n",
    "           \", Height: \" + height + \n",
    "           \", hair: \" + hair + \n",
    "           \" color: \" + color;\n",
    "}\n",
    "\n",
    "private static void updateStats(int energy) {\n",
    "    totalEnergy += energy;\n",
    "    minionCount++;\n",
    "}\n",
    "\n",
    "public static double averageEnergy() {\n",
    "    if (minionCount == 0){\n",
    "    return 0;\n",
    "    }\n",
    "    return (double) totalEnergy / minionCount;\n",
    "}\n",
    "\n",
    "public int calculateRecovery(){\n",
    "    int recovery = 0;\n",
    "    if (this.color.equals(\"purple\")){\n",
    "        recovery +=2;\n",
    "    }\n",
    "    if (this.energy < 5){\n",
    "        recovery += energy;\n",
    "    }\n",
    "\n",
    "    return recovery;\n",
    "}\n",
    "\n",
    "\n",
    "}\n",
    "\n",
    "Minion bob = new Minion();\n",
    "Minion dave = new Minion(\"yellow\", \"dave\", 8, \"sigma\", \"low taper fade\", 2.3);\n",
    "Minion steve = new Minion(\"purple\", \"steve\", 3, \"toothpick\", \"mowhawk\", 1.8);\n",
    "\n",
    "System.out.print(bob.toString());\n",
    "System.out.println();\n",
    "System.out.print(dave.toString());\n",
    "System.out.println();\n",
    "System.out.print(steve.toString());\n",
    "System.out.println();\n",
    "System.out.println(\"Average Energy Level: \" + Minion.averageEnergy());\n",
    "\n",
    "System.out.println(\"Steve will need \" + steve.calculateRecovery() + \" business days to recover.\");\n"
   ]
  },
  {
   "cell_type": "code",
   "execution_count": null,
   "metadata": {
    "vscode": {
     "languageId": "java"
    }
   },
   "outputs": [],
   "source": []
  }
 ],
 "metadata": {
  "kernelspec": {
   "display_name": "Java",
   "language": "java",
   "name": "java"
  },
  "language_info": {
   "codemirror_mode": "java",
   "file_extension": ".jshell",
   "mimetype": "text/x-java-source",
   "name": "Java",
   "pygments_lexer": "java",
   "version": "11.0.24+8-post-Ubuntu-1ubuntu322.04"
  }
 },
 "nbformat": 4,
 "nbformat_minor": 2
}
